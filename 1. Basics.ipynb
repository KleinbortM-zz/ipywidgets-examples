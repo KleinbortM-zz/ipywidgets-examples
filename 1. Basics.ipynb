{
 "cells": [
  {
   "cell_type": "markdown",
   "metadata": {},
   "source": [
    "# Intro to ipywidgets\n",
    "\n",
    "This notebook focuses on the `interact` function from the ipywidgets module. \n",
    "\n",
    "Note: Ipywidgets relies on javascript, and it can be a pain to get it working in Internet Explorer. I've had good experiences in Chrome, but this is pretty brittle (e.g. be careful about versions, paths, etc..)"
   ]
  },
  {
   "cell_type": "markdown",
   "metadata": {},
   "source": [
    "### Default Behaviour  \n",
    "\n",
    "When you have a function `foo` with some keyword arguments, the `interact(foo)` will have some interesting default behaviour depending on they types of the default values for the keyword arguments of your function `foo`.\n",
    "\n",
    "By default:\n",
    "- It will take any argument that has a default value of `True` or `False`, and make it into a toggle. \n",
    "- It will take any argument that has a default value of a list and make it a drop-down menu\n",
    "- It will turn any tuple into a integer slider (or a floating point slider if a 3 element tuple is given).\n",
    "\n",
    "This is best clarified with a few examples:"
   ]
  },
  {
   "cell_type": "code",
   "execution_count": 13,
   "metadata": {},
   "outputs": [],
   "source": [
    "from ipywidgets import interact"
   ]
  },
  {
   "cell_type": "code",
   "execution_count": 14,
   "metadata": {},
   "outputs": [
    {
     "data": {
      "application/vnd.jupyter.widget-view+json": {
       "model_id": "49c30a3105f24964900368f7621a2f47",
       "version_major": 2,
       "version_minor": 0
      },
      "text/plain": [
       "interactive(children=(Output(),), _dom_classes=('widget-interact',))"
      ]
     },
     "metadata": {},
     "output_type": "display_data"
    },
    {
     "data": {
      "text/plain": [
       "<function __main__.foo()>"
      ]
     },
     "execution_count": 14,
     "metadata": {},
     "output_type": "execute_result"
    }
   ],
   "source": [
    "# This does nothing\n",
    "\n",
    "def foo():\n",
    "    print(f'Nothing to see here')\n",
    "    \n",
    "interact(foo)"
   ]
  },
  {
   "cell_type": "code",
   "execution_count": 15,
   "metadata": {},
   "outputs": [
    {
     "data": {
      "application/vnd.jupyter.widget-view+json": {
       "model_id": "ac41a984be0444b1a79ea0c85b741b04",
       "version_major": 2,
       "version_minor": 0
      },
      "text/plain": [
       "interactive(children=(Checkbox(value=False, description='x'), Output()), _dom_classes=('widget-interact',))"
      ]
     },
     "metadata": {},
     "output_type": "display_data"
    },
    {
     "data": {
      "text/plain": [
       "<function __main__.foo(x=False)>"
      ]
     },
     "execution_count": 15,
     "metadata": {},
     "output_type": "execute_result"
    }
   ],
   "source": [
    "# Because x has a boolean default value, a toggle is created\n",
    "\n",
    "def foo(x=False):\n",
    "    print(f'x is {x}')\n",
    "    \n",
    "interact(foo)"
   ]
  },
  {
   "cell_type": "code",
   "execution_count": 16,
   "metadata": {},
   "outputs": [
    {
     "data": {
      "application/vnd.jupyter.widget-view+json": {
       "model_id": "5e1d596040d64c9688cd47e2e84d0867",
       "version_major": 2,
       "version_minor": 0
      },
      "text/plain": [
       "interactive(children=(Checkbox(value=False, description='x'), Dropdown(description='y', options=('a', 'b', 'c'…"
      ]
     },
     "metadata": {},
     "output_type": "display_data"
    },
    {
     "data": {
      "text/plain": [
       "<function __main__.foo(x=False, y=['a', 'b', 'c'])>"
      ]
     },
     "execution_count": 16,
     "metadata": {},
     "output_type": "execute_result"
    }
   ],
   "source": [
    "# Beacause y is a list, a drop-down menue is created\n",
    "\n",
    "def foo(x=False, y=['a','b','c']):\n",
    "    print(f'x is {x}, y is {y}')\n",
    "    \n",
    "interact(foo)"
   ]
  },
  {
   "cell_type": "code",
   "execution_count": 17,
   "metadata": {},
   "outputs": [
    {
     "data": {
      "application/vnd.jupyter.widget-view+json": {
       "model_id": "f1a01ac6009341b3af6efe907faeec6a",
       "version_major": 2,
       "version_minor": 0
      },
      "text/plain": [
       "interactive(children=(Checkbox(value=False, description='x'), Dropdown(description='y', options=('a', 'b', 'c'…"
      ]
     },
     "metadata": {},
     "output_type": "display_data"
    }
   ],
   "source": [
    "# Here, z is a tuple with a starting point and and end point, resulting in an integer slider\n",
    "# w is also a slider, but it has the additional 'step' argument, here set to 0.1\n",
    "\n",
    "def foo(x=False, y=['a','b','c'], z=(0,5), w=(0,5,0.1)):\n",
    "    print(f'x is {x}, y is {y}, z is {z}, w is {w}')\n",
    "    \n",
    "_ = interact(foo)"
   ]
  },
  {
   "cell_type": "markdown",
   "metadata": {},
   "source": [
    "Using this for an ever-so-slightly useful tool:"
   ]
  },
  {
   "cell_type": "code",
   "execution_count": 26,
   "metadata": {},
   "outputs": [
    {
     "data": {
      "application/vnd.jupyter.widget-view+json": {
       "model_id": "4bafc654fc5c4071bcf1945820b0f841",
       "version_major": 2,
       "version_minor": 0
      },
      "text/plain": [
       "interactive(children=(FloatSlider(value=50.0, description='weight', step=0.5), FloatSlider(value=1.3, descript…"
      ]
     },
     "metadata": {},
     "output_type": "display_data"
    },
    {
     "data": {
      "text/plain": [
       "<function __main__.bmi(weight=(0, 100, 0.5), height=(0.5, 2.1, 0.01), gender=['M', 'F'])>"
      ]
     },
     "execution_count": 26,
     "metadata": {},
     "output_type": "execute_result"
    }
   ],
   "source": [
    "def bmi(weight=(0,100,0.5), height=(0.5, 2.10, 0.01), gender=['M','F']):\n",
    "    '''This function computes the BMI of a person\n",
    "    \n",
    "    - weight is in (Kg)\n",
    "    - height is in (m)\n",
    "    \n",
    "    Have fun!!!'''\n",
    "    \n",
    "    \n",
    "    bmi = weight/height\n",
    "    \n",
    "    if gender=='M':\n",
    "        print(f'His BMI is {round(bmi, 1)}')\n",
    "    else:\n",
    "        print(f'Her BMI is {round(bmi, 1)}')\n",
    "        \n",
    "interact(bmi)"
   ]
  },
  {
   "cell_type": "markdown",
   "metadata": {},
   "source": [
    "# A better way to do it\n",
    "\n",
    "Perhaps you felt some pain at seeing a function that should take in floats have default value set to tuples. In fact, if we try to run `bmi` outside of `interact` we will suffer our shortcuts."
   ]
  },
  {
   "cell_type": "code",
   "execution_count": 28,
   "metadata": {},
   "outputs": [
    {
     "ename": "TypeError",
     "evalue": "unsupported operand type(s) for /: 'tuple' and 'tuple'",
     "output_type": "error",
     "traceback": [
      "\u001b[0;31m---------------------------------------------------------------------------\u001b[0m",
      "\u001b[0;31mTypeError\u001b[0m                                 Traceback (most recent call last)",
      "\u001b[0;32m<ipython-input-28-6eb5b0401f52>\u001b[0m in \u001b[0;36m<module>\u001b[0;34m()\u001b[0m\n\u001b[0;32m----> 1\u001b[0;31m \u001b[0mbmi\u001b[0m\u001b[0;34m(\u001b[0m\u001b[0;34m)\u001b[0m\u001b[0;34m\u001b[0m\u001b[0m\n\u001b[0m",
      "\u001b[0;32m<ipython-input-26-01d0695c457c>\u001b[0m in \u001b[0;36mbmi\u001b[0;34m(weight, height, gender)\u001b[0m\n\u001b[1;32m      8\u001b[0m \u001b[0;34m\u001b[0m\u001b[0m\n\u001b[1;32m      9\u001b[0m \u001b[0;34m\u001b[0m\u001b[0m\n\u001b[0;32m---> 10\u001b[0;31m     \u001b[0mbmi\u001b[0m \u001b[0;34m=\u001b[0m \u001b[0mweight\u001b[0m\u001b[0;34m/\u001b[0m\u001b[0mheight\u001b[0m\u001b[0;34m\u001b[0m\u001b[0m\n\u001b[0m\u001b[1;32m     11\u001b[0m \u001b[0;34m\u001b[0m\u001b[0m\n\u001b[1;32m     12\u001b[0m     \u001b[0;32mif\u001b[0m \u001b[0mgender\u001b[0m\u001b[0;34m==\u001b[0m\u001b[0;34m'M'\u001b[0m\u001b[0;34m:\u001b[0m\u001b[0;34m\u001b[0m\u001b[0m\n",
      "\u001b[0;31mTypeError\u001b[0m: unsupported operand type(s) for /: 'tuple' and 'tuple'"
     ]
    }
   ],
   "source": [
    "bmi()"
   ]
  },
  {
   "cell_type": "markdown",
   "metadata": {},
   "source": [
    "A better way of doing things is to define `bmi` as one should, and set the interactivity as part of they keyword arguments passed to `interact`"
   ]
  },
  {
   "cell_type": "code",
   "execution_count": 29,
   "metadata": {},
   "outputs": [],
   "source": [
    "def bmi(weight=70, height=1.75, gender='M'):\n",
    "    bmi = weight/height\n",
    "    \n",
    "    if gender=='M':\n",
    "        print(f'His BMI is {round(bmi, 1)}')\n",
    "    else:\n",
    "        print(f'Her BMI is {round(bmi, 1)}')\n",
    "        "
   ]
  },
  {
   "cell_type": "code",
   "execution_count": 30,
   "metadata": {},
   "outputs": [
    {
     "data": {
      "application/vnd.jupyter.widget-view+json": {
       "model_id": "3e324910b8ec448fbf622d934c219e83",
       "version_major": 2,
       "version_minor": 0
      },
      "text/plain": [
       "interactive(children=(FloatSlider(value=70.0, description='weight', step=0.5), FloatSlider(value=1.75, descrip…"
      ]
     },
     "metadata": {},
     "output_type": "display_data"
    },
    {
     "data": {
      "text/plain": [
       "<function __main__.bmi(weight=70, height=1.75, gender='M')>"
      ]
     },
     "execution_count": 30,
     "metadata": {},
     "output_type": "execute_result"
    }
   ],
   "source": [
    "interact(bmi, weight=(0,100,0.5), height=(0.5, 2.10, 0.01), gender=['M','F'])"
   ]
  },
  {
   "cell_type": "markdown",
   "metadata": {},
   "source": [
    "In the end we obtain the same result, but we've decoupled our function from the syntax shortcuts of the ipywidgets module."
   ]
  },
  {
   "cell_type": "markdown",
   "metadata": {},
   "source": [
    "# Being more specific\n",
    "\n",
    "If one wants to play outside the defaults it is useful to import a few more classes and define our things explicitly.\n",
    "\n",
    "For now, lets just mess with a few randomly plotted dots."
   ]
  },
  {
   "cell_type": "code",
   "execution_count": 78,
   "metadata": {},
   "outputs": [
    {
     "data": {
      "text/plain": [
       "<matplotlib.collections.PathCollection at 0x119019470>"
      ]
     },
     "execution_count": 78,
     "metadata": {},
     "output_type": "execute_result"
    },
    {
     "data": {
      "image/png": "[encoded data removed]",
      "text/plain": [
       "<Figure size 432x288 with 1 Axes>"
      ]
     },
     "metadata": {},
     "output_type": "display_data"
    }
   ],
   "source": [
    "import numpy as np\n",
    "import matplotlib.pyplot as plt\n",
    "\n",
    "random_data_x = np.random.rand(500)\n",
    "random_data_y = np.random.rand(500)\n",
    "\n",
    "plt.scatter(random_data_x, random_data_y)"
   ]
  },
  {
   "cell_type": "code",
   "execution_count": 80,
   "metadata": {},
   "outputs": [
    {
     "data": {
      "application/vnd.jupyter.widget-view+json": {
       "model_id": "c4c906eabd744b11a923a5214e39cd4a",
       "version_major": 2,
       "version_minor": 0
      },
      "text/plain": [
       "interactive(children=(FloatSlider(value=0.0, description='xmin', max=1.0), FloatSlider(value=1.0, description=…"
      ]
     },
     "metadata": {},
     "output_type": "display_data"
    },
    {
     "data": {
      "text/plain": [
       "<function __main__.plot(xmin=0, xmax=1, ymin=0, ymax=1)>"
      ]
     },
     "execution_count": 80,
     "metadata": {},
     "output_type": "execute_result"
    }
   ],
   "source": [
    "# For reference, this is how we did it in the previous section:\n",
    "\n",
    "def plot(xmin=0, xmax=1, ymin=0, ymax=1):\n",
    "\n",
    "    # This will plot all the points in gray\n",
    "    plt.scatter(random_data_x, random_data_y)\n",
    "    \n",
    "    within_values = (xmin < random_data_x) & (random_data_x < xmax) & (ymin < random_data_y) & (random_data_y < ymax)\n",
    "\n",
    "    plt.scatter(random_data_x[within_values], random_data_y[within_values], color='r')\n",
    "\n",
    "    \n",
    "interact(plot, xmin=(0,1,0.1), xmax=(0,1,0.1), ymin=(0,1,0.1), ymax=(0,1,0.1))"
   ]
  },
  {
   "cell_type": "markdown",
   "metadata": {},
   "source": [
    "Next, lets see how we can use the FloatSlider class to be a bit more explicit\n",
    "\n"
   ]
  },
  {
   "cell_type": "code",
   "execution_count": 81,
   "metadata": {},
   "outputs": [
    {
     "data": {
      "application/vnd.jupyter.widget-view+json": {
       "model_id": "a4226845804541e0900555aac26dd63d",
       "version_major": 2,
       "version_minor": 0
      },
      "text/plain": [
       "FloatSlider(value=0.0, max=1.0)"
      ]
     },
     "metadata": {},
     "output_type": "display_data"
    }
   ],
   "source": [
    "from ipywidgets import FloatSlider\n",
    "\n",
    "slider = FloatSlider(min=0, max=1, step=0.1)\n",
    "\n",
    "display(slider)"
   ]
  },
  {
   "cell_type": "code",
   "execution_count": 82,
   "metadata": {},
   "outputs": [
    {
     "data": {
      "application/vnd.jupyter.widget-view+json": {
       "model_id": "e9d2fe338a3b4721872d178a332e86f2",
       "version_major": 2,
       "version_minor": 0
      },
      "text/plain": [
       "interactive(children=(FloatSlider(value=0.0, description='xmin', max=1.0), FloatSlider(value=0.0, description=…"
      ]
     },
     "metadata": {},
     "output_type": "display_data"
    },
    {
     "data": {
      "text/plain": [
       "<function __main__.plot(xmin=0, xmax=1, ymin=0, ymax=1)>"
      ]
     },
     "execution_count": 82,
     "metadata": {},
     "output_type": "execute_result"
    }
   ],
   "source": [
    "interact(plot, xmin=FloatSlider(min=0, max=1, step=0.1), \n",
    "               xmax=FloatSlider(min=0, max=1, step=0.1), \n",
    "               ymin=FloatSlider(min=0, max=1, step=0.1), \n",
    "               ymax=FloatSlider(min=0, max=1, step=0.1))"
   ]
  },
  {
   "cell_type": "markdown",
   "metadata": {},
   "source": [
    "One small advantage is that we can set the default value and label for each slider quite easily."
   ]
  },
  {
   "cell_type": "code",
   "execution_count": 83,
   "metadata": {},
   "outputs": [
    {
     "data": {
      "application/vnd.jupyter.widget-view+json": {
       "model_id": "5770a1e938b84a638737ec9946fa8385",
       "version_major": 2,
       "version_minor": 0
      },
      "text/plain": [
       "interactive(children=(FloatSlider(value=0.1, description='Minimum x value', max=1.0), FloatSlider(value=0.4, d…"
      ]
     },
     "metadata": {},
     "output_type": "display_data"
    },
    {
     "data": {
      "text/plain": [
       "<function __main__.plot(xmin=0, xmax=1, ymin=0, ymax=1)>"
      ]
     },
     "execution_count": 83,
     "metadata": {},
     "output_type": "execute_result"
    }
   ],
   "source": [
    "interact(plot, xmin=FloatSlider(min=0, max=1, step=0.1, value=0.1, description='Minimum x value'), \n",
    "               xmax=FloatSlider(min=0, max=1, step=0.1, value=0.4, description='Maximum x value'), \n",
    "               ymin=FloatSlider(min=0, max=1, step=0.1, value=0.7, description='Minimum y value'), \n",
    "               ymax=FloatSlider(min=0, max=1, step=0.1, value=0.9, description='Maximum y value'))"
   ]
  },
  {
   "cell_type": "markdown",
   "metadata": {},
   "source": [
    "However, the true value of this independent classes is that you can move beyond the default interactive tools"
   ]
  },
  {
   "cell_type": "code",
   "execution_count": 87,
   "metadata": {},
   "outputs": [],
   "source": [
    "from ipywidgets import FloatRangeSlider\n",
    "\n",
    "\n",
    "def plot2(xrange, yrange):\n",
    "\n",
    "    xmin, xmax = xrange\n",
    "    ymin, ymax = yrange\n",
    "    \n",
    "    plot(xmin, xmax, ymin, ymax)\n",
    "    "
   ]
  },
  {
   "cell_type": "code",
   "execution_count": 88,
   "metadata": {},
   "outputs": [
    {
     "data": {
      "application/vnd.jupyter.widget-view+json": {
       "model_id": "a2d04153db0c4855a3ae079852f08c39",
       "version_major": 2,
       "version_minor": 0
      },
      "text/plain": [
       "interactive(children=(FloatRangeSlider(value=(0.1, 0.5), description='Range of x', max=1.0), FloatRangeSlider(…"
      ]
     },
     "metadata": {},
     "output_type": "display_data"
    },
    {
     "data": {
      "text/plain": [
       "<function __main__.plot2(xrange, yrange)>"
      ]
     },
     "execution_count": 88,
     "metadata": {},
     "output_type": "execute_result"
    }
   ],
   "source": [
    "interact(plot2, xrange=FloatRangeSlider(min=0, max=1, step=0.1, value=(0.1, 0.5), description='Range of x'), \n",
    "               yrange=FloatRangeSlider(min=0, max=1, step=0.1, value=(0.1, 0.5), description='Range of x'))\n"
   ]
  },
  {
   "cell_type": "markdown",
   "metadata": {},
   "source": [
    "### Exercise \n",
    "\n",
    "Use interact to change the **slope** and **y-intercept** of a line"
   ]
  },
  {
   "cell_type": "code",
   "execution_count": 90,
   "metadata": {},
   "outputs": [
    {
     "data": {
      "text/plain": [
       "[<matplotlib.lines.Line2D at 0x1198256d8>]"
      ]
     },
     "execution_count": 90,
     "metadata": {},
     "output_type": "execute_result"
    },
    {
     "data": {
      "image/png": "[encoded data removed]",
      "text/plain": [
       "<Figure size 432x288 with 1 Axes>"
      ]
     },
     "metadata": {},
     "output_type": "display_data"
    }
   ],
   "source": [
    "# Hint:\n",
    "\n",
    "x1, x2 = 0, 1\n",
    "y1, y2 = 0, 1\n",
    "\n",
    "plt.plot([x1,x2], [y1+0, y2+0])"
   ]
  },
  {
   "cell_type": "code",
   "execution_count": null,
   "metadata": {},
   "outputs": [],
   "source": []
  }
 ],
 "metadata": {
  "kernelspec": {
   "display_name": "Python 3",
   "language": "python",
   "name": "python3"
  },
  "language_info": {
   "codemirror_mode": {
    "name": "ipython",
    "version": 3
   },
   "file_extension": ".py",
   "mimetype": "text/x-python",
   "name": "python",
   "nbconvert_exporter": "python",
   "pygments_lexer": "ipython3",
   "version": "3.6.5"
  }
 },
 "nbformat": 4,
 "nbformat_minor": 2
}
